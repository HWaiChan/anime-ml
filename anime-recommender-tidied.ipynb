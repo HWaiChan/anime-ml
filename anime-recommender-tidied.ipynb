{
 "cells": [
  {
   "cell_type": "code",
   "execution_count": 1,
   "metadata": {},
   "outputs": [
    {
     "name": "stdout",
     "output_type": "stream",
     "text": [
      "Setup Complete\n"
     ]
    }
   ],
   "source": [
    "import pandas as pd\n",
    "pd.plotting.register_matplotlib_converters()\n",
    "import matplotlib.pyplot as plt\n",
    "%matplotlib inline\n",
    "import seaborn as sns\n",
    "from collections import defaultdict\n",
    "import numpy as np\n",
    "import scipy\n",
    "from scipy.sparse.linalg import svds\n",
    "import surprise as sp\n",
    "import time\n",
    "print(\"Setup Complete\")\n"
   ]
  },
  {
   "cell_type": "code",
   "execution_count": 2,
   "metadata": {},
   "outputs": [],
   "source": [
    "\n",
    "UsersDF = pd.read_csv('./data/full/users_cleaned.csv')\n",
    "AnimesDF = pd.read_csv('./data/full/anime_cleaned.csv')\n",
    "ScoresDF = pd.read_csv('./data/full/animelists_cleaned.csv')\n",
    "\n",
    "ScoresDF_lite = ScoresDF[['username', 'anime_id', 'my_score', 'my_status']]\n",
    "\n",
    "AnimeDF_name_only = AnimesDF[['anime_id', 'title']]\n",
    "ScoresDF_lite_with_names = ScoresDF_lite.merge(AnimeDF_name_only, left_on='anime_id', right_on='anime_id')\n",
    "\n",
    "ScoresDF_lite_with_names_no_0_score = ScoresDF_lite_with_names[ScoresDF_lite_with_names['my_score'] > 0]\n",
    "\n",
    "\n",
    "UsersRatedPerAnime = ScoresDF_lite_with_names_no_0_score['anime_id'].value_counts().reset_index().rename(columns={\"anime_id\": \"number_of_users\", \"index\": \"anime_id\"})\n",
    "AnimesRatedPerUser = ScoresDF_lite_with_names_no_0_score['username'].value_counts().reset_index().rename(columns={\"username\": \"number_of_animes\", \"index\": \"username\"})\n",
    "\n",
    "\n",
    "UserRatedsPerAnimeNice = UsersRatedPerAnime[UsersRatedPerAnime['number_of_users'] > 10]\n",
    "AnimesRatedPerUserNice = AnimesRatedPerUser[AnimesRatedPerUser['number_of_animes'] > 10]\n",
    "\n",
    "ScoresDFFilteredNice = pd.merge(ScoresDF_lite_with_names_no_0_score, AnimesRatedPerUserNice, left_on = 'username', right_on = 'username', how = 'inner')\n",
    "ScoresDFFilteredNice = pd.merge(ScoresDFFilteredNice, UserRatedsPerAnimeNice, left_on = 'anime_id', right_on = 'anime_id', how = 'inner')\n",
    "\n"
   ]
  },
  {
   "cell_type": "markdown",
   "metadata": {},
   "source": [
    "- Choose the correct model to train on\n",
    "- Output the nearest neighbours similar to how I did it for the others\n",
    "- "
   ]
  },
  {
   "cell_type": "code",
   "execution_count": 3,
   "metadata": {},
   "outputs": [],
   "source": [
    "reader = sp.Reader(rating_scale=(1, 10))\n",
    "data = sp.Dataset.load_from_df(ScoresDFFilteredNice[['username', 'title', 'my_score']], reader)\n",
    "\n",
    "trainset, testset = sp.model_selection.split.train_test_split(data)"
   ]
  },
  {
   "cell_type": "code",
   "execution_count": 3,
   "metadata": {},
   "outputs": [],
   "source": [
    "def precision_recall_at_k(predictions, k=10, threshold= 7):\n",
    "    '''Return precision and recall at k metrics for each user.'''\n",
    "\n",
    "    # First map the predictions to each user.\n",
    "    estimate_actual_by_user = defaultdict(list)\n",
    "    for user, _, true_rating, estimated_rating, _ in predictions:\n",
    "        estimate_actual_by_user[user].append((estimated_rating, true_rating))\n",
    "    # Creates a dict with the key being a user and the value bringing the estimated rating and the true rating.\n",
    "\n",
    "    precisions = dict()\n",
    "    recalls = dict()\n",
    "    for user, user_ratings in estimate_actual_by_user.items():\n",
    "\n",
    "        # Sort user ratings by estimated value\n",
    "        user_ratings.sort(key=lambda x: x[0], reverse=True)\n",
    "\n",
    "        # Number of relevant items\n",
    "        n_rel = sum((true_rating >= threshold) for (_, true_rating) in user_ratings)\n",
    "\n",
    "        # Number of recommended items in top k\n",
    "        n_rec_k = sum((est >= threshold) for (est, _) in user_ratings[:k])\n",
    "\n",
    "        # Number of relevant and recommended items in top k\n",
    "        n_rel_and_rec_k = sum(((true_rating >= threshold) and (est >= threshold))\n",
    "                              for (est, true_rating) in user_ratings[:k])\n",
    "\n",
    "        # Precision@K: Proportion of recommended items that are relevant\n",
    "        precisions[user] = n_rel_and_rec_k / n_rec_k if n_rec_k != 0 else 1\n",
    "\n",
    "        # Recall@K: Proportion of relevant items that are recommended\n",
    "        recalls[user] = n_rel_and_rec_k /  n_rel if n_rel != 0 else 1\n",
    "\n",
    "    return precisions, recalls"
   ]
  },
  {
   "cell_type": "code",
   "execution_count": 11,
   "metadata": {},
   "outputs": [
    {
     "name": "stdout",
     "output_type": "stream",
     "text": [
      "Starting:  KNNBasic\n",
      "Estimating biases using als...\n"
     ]
    }
   ],
   "source": [
    "from surprise import dump\n",
    "import os\n",
    "\n",
    "analysis = defaultdict(list)\n",
    "model_filename_prefix = \"./model_\"\n",
    "model_filename_suffix = \".pickle\"\n",
    "def get_model_filename(model_name):\n",
    "    return model_filename_prefix + model_name + model_filename_suffix\n",
    "sim_options = {'name': 'pearson_baseline',\n",
    "               'user_based': False,  # compute  similarities between items\n",
    "               }\n",
    "'''sp.SVD(), sp.SlopeOne(), sp.NMF(), sp.NormalPredictor(), sp.KNNBaseline(), '''\n",
    "#algorithms = [sp.SVD(), sp.SVDpp(), sp.SlopeOne(), sp.NMF(), sp.NormalPredictor(), sp.KNNBaseline(), sp.KNNBasic(), sp.KNNWithMeans(), sp.KNNWithZScore(), sp.BaselineOnly(), sp.CoClustering()]\n",
    "algorithms = [sp.KNNBasic(sim_options=sim_options), sp.KNNWithMeans(sim_options=sim_options), sp.KNNWithZScore(sim_options=sim_options), sp.CoClustering()]\n",
    "\n",
    "\n",
    "for algorithm in algorithms:\n",
    "    name = algorithm.__class__.__name__\n",
    "    print(\"Starting: \" , name)\n",
    "    start = time.time()    \n",
    "    algorithm.fit(trainset)\n",
    "    # Dump algorithm.\n",
    "    file_name = os.path.expanduser(get_model_filename(name))\n",
    "    dump.dump(file_name, algo=algorithm)\n",
    "    print(\"Done: \" , name, \"\\n\")\n",
    "print ('\\n\\tDONE\\n')"
   ]
  },
  {
   "cell_type": "markdown",
   "metadata": {},
   "source": [
    "For item-item similarity, we have trained a bunch of KNN models: KNNBasic, KNNWithBeans, KNNWithZScore.\n",
    "Let's explore what they mean and we will use the precision and recall at k to determine its performance."
   ]
  },
  {
   "cell_type": "code",
   "execution_count": 4,
   "metadata": {},
   "outputs": [
    {
     "name": "stdout",
     "output_type": "stream",
     "text": [
      ">> Loading dumps\n",
      ">> Loaded dump\n",
      "KNNBasic\n"
     ]
    }
   ],
   "source": [
    "print (\">> Loading dumps\")\n",
    "from surprise import dump\n",
    "import os\n",
    "model_filename = \"./model_KNNBasic.pickle\"\n",
    "\n",
    "file_name = os.path.expanduser(model_filename)\n",
    "_, loaded_model = dump.load(file_name)\n",
    "print (\">> Loaded dump\")\n",
    "print(loaded_model.__class__.__name__)"
   ]
  },
  {
   "cell_type": "code",
   "execution_count": 14,
   "metadata": {},
   "outputs": [],
   "source": [
    "\n",
    "def get_similar_items(loaded_knn_model, anime_title, k=30):     \n",
    "    iid = loaded_knn_model.trainset.to_inner_iid(anime_title)\n",
    "    neighbor_ids = loaded_knn_model.get_neighbors(iid, k=k)\n",
    "    neightbors = (loaded_knn_model.trainset.to_raw_iid(inner_id) for inner_id in neighbor_ids)\n",
    "    df = pd.DataFrame(neightbors, columns = ['Title'])\n",
    "    return df"
   ]
  },
  {
   "cell_type": "markdown",
   "metadata": {},
   "source": [
    "Simple sanity check on one of my favourites during my childhood: Detective Conan. And to compare with my DIY solution."
   ]
  },
  {
   "cell_type": "code",
   "execution_count": 19,
   "metadata": {},
   "outputs": [
    {
     "data": {
      "text/html": [
       "<div>\n",
       "<style scoped>\n",
       "    .dataframe tbody tr th:only-of-type {\n",
       "        vertical-align: middle;\n",
       "    }\n",
       "\n",
       "    .dataframe tbody tr th {\n",
       "        vertical-align: top;\n",
       "    }\n",
       "\n",
       "    .dataframe thead th {\n",
       "        text-align: right;\n",
       "    }\n",
       "</style>\n",
       "<table border=\"1\" class=\"dataframe\">\n",
       "  <thead>\n",
       "    <tr style=\"text-align: right;\">\n",
       "      <th></th>\n",
       "      <th>Title</th>\n",
       "    </tr>\n",
       "  </thead>\n",
       "  <tbody>\n",
       "    <tr>\n",
       "      <th>0</th>\n",
       "      <td>Magic Kaito</td>\n",
       "    </tr>\n",
       "    <tr>\n",
       "      <th>1</th>\n",
       "      <td>Detective Conan Movie 04: Captured in Her Eyes</td>\n",
       "    </tr>\n",
       "    <tr>\n",
       "      <th>2</th>\n",
       "      <td>Detective Conan Movie 01: The Timed Skyscraper</td>\n",
       "    </tr>\n",
       "    <tr>\n",
       "      <th>3</th>\n",
       "      <td>Detective Conan Movie 10: Requiem of the Detec...</td>\n",
       "    </tr>\n",
       "    <tr>\n",
       "      <th>4</th>\n",
       "      <td>Detective Conan Movie 06: The Phantom of Baker...</td>\n",
       "    </tr>\n",
       "    <tr>\n",
       "      <th>5</th>\n",
       "      <td>Detective Conan Movie 02: The Fourteenth Target</td>\n",
       "    </tr>\n",
       "    <tr>\n",
       "      <th>6</th>\n",
       "      <td>Detective Conan Movie 03: The Last Wizard of t...</td>\n",
       "    </tr>\n",
       "    <tr>\n",
       "      <th>7</th>\n",
       "      <td>Detective Conan Movie 05: Countdown to Heaven</td>\n",
       "    </tr>\n",
       "    <tr>\n",
       "      <th>8</th>\n",
       "      <td>Detective Conan Movie 14: The Lost Ship in the...</td>\n",
       "    </tr>\n",
       "    <tr>\n",
       "      <th>9</th>\n",
       "      <td>Detective Conan Movie 13: The Raven Chaser</td>\n",
       "    </tr>\n",
       "  </tbody>\n",
       "</table>\n",
       "</div>"
      ],
      "text/plain": [
       "                                               Title\n",
       "0                                        Magic Kaito\n",
       "1     Detective Conan Movie 04: Captured in Her Eyes\n",
       "2     Detective Conan Movie 01: The Timed Skyscraper\n",
       "3  Detective Conan Movie 10: Requiem of the Detec...\n",
       "4  Detective Conan Movie 06: The Phantom of Baker...\n",
       "5    Detective Conan Movie 02: The Fourteenth Target\n",
       "6  Detective Conan Movie 03: The Last Wizard of t...\n",
       "7      Detective Conan Movie 05: Countdown to Heaven\n",
       "8  Detective Conan Movie 14: The Lost Ship in the...\n",
       "9         Detective Conan Movie 13: The Raven Chaser"
      ]
     },
     "execution_count": 19,
     "metadata": {},
     "output_type": "execute_result"
    }
   ],
   "source": [
    "get_similar_items(loaded_model, \"Detective Conan\", k=10)"
   ]
  },
  {
   "cell_type": "markdown",
   "metadata": {},
   "source": [
    "Better than my DIY solution! Interesting to see Magic Kaito at the top.\n",
    "\n",
    "\n",
    "Now let's use precision + recall at 15 to evaulate the performance of the other KNNs."
   ]
  },
  {
   "cell_type": "code",
   "execution_count": 21,
   "metadata": {},
   "outputs": [
    {
     "name": "stdout",
     "output_type": "stream",
     "text": [
      "./model_KNNBasic.pickle\n",
      "KNNBasic\n",
      "./model_KNNWithMeans.pickle\n",
      "KNNWithMeans\n",
      "./model_KNNWithZScore.pickle\n"
     ]
    },
    {
     "ename": "MemoryError",
     "evalue": "",
     "output_type": "error",
     "traceback": [
      "\u001b[1;31m---------------------------------------------------------------------------\u001b[0m",
      "\u001b[1;31mMemoryError\u001b[0m                               Traceback (most recent call last)",
      "\u001b[1;32mc:\\Users\\Hansw\\Projects\\anime-ml\\anime-recommender-tidied.ipynb Cell 13'\u001b[0m in \u001b[0;36m<cell line: 4>\u001b[1;34m()\u001b[0m\n\u001b[0;32m      <a href='vscode-notebook-cell:/c%3A/Users/Hansw/Projects/anime-ml/anime-recommender-tidied.ipynb#ch0000015?line=4'>5</a>\u001b[0m file_name \u001b[39m=\u001b[39m os\u001b[39m.\u001b[39mpath\u001b[39m.\u001b[39mexpanduser(\u001b[39mf\u001b[39m\u001b[39m'\u001b[39m\u001b[39m./model_\u001b[39m\u001b[39m{\u001b[39;00mmodel_name\u001b[39m}\u001b[39;00m\u001b[39m.pickle\u001b[39m\u001b[39m'\u001b[39m)\n\u001b[0;32m      <a href='vscode-notebook-cell:/c%3A/Users/Hansw/Projects/anime-ml/anime-recommender-tidied.ipynb#ch0000015?line=5'>6</a>\u001b[0m \u001b[39mprint\u001b[39m(file_name)\n\u001b[1;32m----> <a href='vscode-notebook-cell:/c%3A/Users/Hansw/Projects/anime-ml/anime-recommender-tidied.ipynb#ch0000015?line=6'>7</a>\u001b[0m _, loaded_model \u001b[39m=\u001b[39m dump\u001b[39m.\u001b[39;49mload(file_name)\n\u001b[0;32m      <a href='vscode-notebook-cell:/c%3A/Users/Hansw/Projects/anime-ml/anime-recommender-tidied.ipynb#ch0000015?line=7'>8</a>\u001b[0m \u001b[39mprint\u001b[39m(loaded_model\u001b[39m.\u001b[39m\u001b[39m__class__\u001b[39m\u001b[39m.\u001b[39m\u001b[39m__name__\u001b[39m)\n\u001b[0;32m      <a href='vscode-notebook-cell:/c%3A/Users/Hansw/Projects/anime-ml/anime-recommender-tidied.ipynb#ch0000015?line=8'>9</a>\u001b[0m loaded_models\u001b[39m.\u001b[39mappend(loaded_model)\n",
      "File \u001b[1;32mc:\\Users\\Hansw\\Projects\\anime-ml\\venv\\lib\\site-packages\\surprise\\dump.py:56\u001b[0m, in \u001b[0;36mload\u001b[1;34m(file_name)\u001b[0m\n\u001b[0;32m     <a href='file:///c%3A/Users/Hansw/Projects/anime-ml/venv/lib/site-packages/surprise/dump.py?line=36'>37</a>\u001b[0m \u001b[39mdef\u001b[39;00m \u001b[39mload\u001b[39m(file_name):\n\u001b[0;32m     <a href='file:///c%3A/Users/Hansw/Projects/anime-ml/venv/lib/site-packages/surprise/dump.py?line=37'>38</a>\u001b[0m     \u001b[39m\"\"\"A basic wrapper around Pickle to deserialize a list of prediction and/or\u001b[39;00m\n\u001b[0;32m     <a href='file:///c%3A/Users/Hansw/Projects/anime-ml/venv/lib/site-packages/surprise/dump.py?line=38'>39</a>\u001b[0m \u001b[39m    an algorithm that were dumped on drive using :func:`dump()\u001b[39;00m\n\u001b[0;32m     <a href='file:///c%3A/Users/Hansw/Projects/anime-ml/venv/lib/site-packages/surprise/dump.py?line=39'>40</a>\u001b[0m \u001b[39m    <surprise.dump.dump>`.\u001b[39;00m\n\u001b[1;32m   (...)\u001b[0m\n\u001b[0;32m     <a href='file:///c%3A/Users/Hansw/Projects/anime-ml/venv/lib/site-packages/surprise/dump.py?line=52'>53</a>\u001b[0m \n\u001b[0;32m     <a href='file:///c%3A/Users/Hansw/Projects/anime-ml/venv/lib/site-packages/surprise/dump.py?line=53'>54</a>\u001b[0m \u001b[39m    \"\"\"\u001b[39;00m\n\u001b[1;32m---> <a href='file:///c%3A/Users/Hansw/Projects/anime-ml/venv/lib/site-packages/surprise/dump.py?line=55'>56</a>\u001b[0m     dump_obj \u001b[39m=\u001b[39m pickle\u001b[39m.\u001b[39;49mload(\u001b[39mopen\u001b[39;49m(file_name, \u001b[39m'\u001b[39;49m\u001b[39mrb\u001b[39;49m\u001b[39m'\u001b[39;49m))\n\u001b[0;32m     <a href='file:///c%3A/Users/Hansw/Projects/anime-ml/venv/lib/site-packages/surprise/dump.py?line=57'>58</a>\u001b[0m     \u001b[39mreturn\u001b[39;00m dump_obj[\u001b[39m'\u001b[39m\u001b[39mpredictions\u001b[39m\u001b[39m'\u001b[39m], dump_obj[\u001b[39m'\u001b[39m\u001b[39malgo\u001b[39m\u001b[39m'\u001b[39m]\n",
      "\u001b[1;31mMemoryError\u001b[0m: "
     ]
    }
   ],
   "source": [
    "models_to_load = [\"KNNBasic\", \"KNNWithMeans\", \"KNNWithZScore\"]\n",
    "loaded_models = []\n",
    "\n",
    "for model_name in models_to_load:\n",
    "    file_name = os.path.expanduser(f'./model_{model_name}.pickle')\n",
    "    print(file_name)\n",
    "    _, loaded_model = dump.load(file_name)\n",
    "    print(loaded_model.__class__.__name__)\n",
    "    loaded_models.append(loaded_model)"
   ]
  },
  {
   "cell_type": "markdown",
   "metadata": {},
   "source": [
    "\"MemoryError:\" sad times."
   ]
  },
  {
   "cell_type": "code",
   "execution_count": 22,
   "metadata": {},
   "outputs": [
    {
     "ename": "NameError",
     "evalue": "name 'testset' is not defined",
     "output_type": "error",
     "traceback": [
      "\u001b[1;31m---------------------------------------------------------------------------\u001b[0m",
      "\u001b[1;31mNameError\u001b[0m                                 Traceback (most recent call last)",
      "\u001b[1;32mc:\\Users\\Hansw\\Projects\\anime-ml\\anime-recommender-tidied.ipynb Cell 15'\u001b[0m in \u001b[0;36m<cell line: 2>\u001b[1;34m()\u001b[0m\n\u001b[0;32m      <a href='vscode-notebook-cell:/c%3A/Users/Hansw/Projects/anime-ml/anime-recommender-tidied.ipynb#ch0000006?line=0'>1</a>\u001b[0m \u001b[39m# I can prepare any test set to gauge on the performance metrics.\u001b[39;00m\n\u001b[0;32m      <a href='vscode-notebook-cell:/c%3A/Users/Hansw/Projects/anime-ml/anime-recommender-tidied.ipynb#ch0000006?line=1'>2</a>\u001b[0m \u001b[39mfor\u001b[39;00m model \u001b[39min\u001b[39;00m loaded_models:\n\u001b[1;32m----> <a href='vscode-notebook-cell:/c%3A/Users/Hansw/Projects/anime-ml/anime-recommender-tidied.ipynb#ch0000006?line=2'>3</a>\u001b[0m     predictions \u001b[39m=\u001b[39m model\u001b[39m.\u001b[39mtest(testset)\n\u001b[0;32m      <a href='vscode-notebook-cell:/c%3A/Users/Hansw/Projects/anime-ml/anime-recommender-tidied.ipynb#ch0000006?line=3'>4</a>\u001b[0m     rmse \u001b[39m=\u001b[39m sp\u001b[39m.\u001b[39maccuracy\u001b[39m.\u001b[39mrmse(predictions)\n\u001b[0;32m      <a href='vscode-notebook-cell:/c%3A/Users/Hansw/Projects/anime-ml/anime-recommender-tidied.ipynb#ch0000006?line=4'>5</a>\u001b[0m     precisions, recalls \u001b[39m=\u001b[39m precision_recall_at_k(predictions, k\u001b[39m=\u001b[39m\u001b[39m10\u001b[39m, threshold\u001b[39m=\u001b[39m\u001b[39m7\u001b[39m)\n",
      "\u001b[1;31mNameError\u001b[0m: name 'testset' is not defined"
     ]
    }
   ],
   "source": [
    "# I can prepare any test set to gauge on the performance metrics.\n",
    "for model in loaded_models:\n",
    "    predictions = model.test(testset)\n",
    "    rmse = sp.accuracy.rmse(predictions)\n",
    "    precisions, recalls = precision_recall_at_k(predictions, k=10, threshold=7)\n",
    "    precision_avg = sum(prec for prec in precisions.values()) / len(precisions)\n",
    "\n",
    "    analysis[name] = (name, rmse, precision_avg, time.time() - start)\n",
    "#\n",
    "#\n",
    "#analysis_df = pd.DataFrame.from_dict(analysis, orient = 'index', columns = ['Algorithm', 'RMSE', 'Precision@10', 'Time to run (in seconds)']).reset_index()\n",
    "#\n",
    "#analysis_df = analysis_df[['Algorithm', 'RMSE', 'Precision@10', 'Time to run (in seconds)']]\n",
    "#analysis_df = analysis_df.sort_values(by=['Precision@10'], ascending = False)\n",
    "#analysis_df['RMSE^-1'] = analysis_df['RMSE'] ** -1\n",
    "#analysis_df.head(n = 15)"
   ]
  },
  {
   "cell_type": "code",
   "execution_count": 5,
   "metadata": {},
   "outputs": [
    {
     "ename": "NameError",
     "evalue": "name 'UserRatedsPerAnimeNice' is not defined",
     "output_type": "error",
     "traceback": [
      "\u001b[1;31m---------------------------------------------------------------------------\u001b[0m",
      "\u001b[1;31mNameError\u001b[0m                                 Traceback (most recent call last)",
      "\u001b[1;32mc:\\Users\\Hansw\\Projects\\anime-recommender\\anime-recommender-tidied.ipynb Cell 8'\u001b[0m in \u001b[0;36m<cell line: 2>\u001b[1;34m()\u001b[0m\n\u001b[0;32m      <a href='vscode-notebook-cell:/c%3A/Users/Hansw/Projects/anime-recommender/anime-recommender-tidied.ipynb#ch0000007?line=0'>1</a>\u001b[0m \u001b[39m#loaded_model.predict('Tomoki-sama','Bleach').est\u001b[39;00m\n\u001b[1;32m----> <a href='vscode-notebook-cell:/c%3A/Users/Hansw/Projects/anime-recommender/anime-recommender-tidied.ipynb#ch0000007?line=1'>2</a>\u001b[0m UserRatedsPerAnimeNice\u001b[39m.\u001b[39mhead()\n",
      "\u001b[1;31mNameError\u001b[0m: name 'UserRatedsPerAnimeNice' is not defined"
     ]
    }
   ],
   "source": [
    "\n",
    "#loaded_model.predict('Tomoki-sama','Bleach').est\n",
    "UserRatedsPerAnimeNice.head()"
   ]
  }
 ],
 "metadata": {
  "interpreter": {
   "hash": "e8eb95414815f6f89ff16eb632ee60d561b546316ee76cf5864c5f3a11478fe5"
  },
  "kernelspec": {
   "display_name": "Python 3.9.13 ('venv': venv)",
   "language": "python",
   "name": "python3"
  },
  "language_info": {
   "codemirror_mode": {
    "name": "ipython",
    "version": 3
   },
   "file_extension": ".py",
   "mimetype": "text/x-python",
   "name": "python",
   "nbconvert_exporter": "python",
   "pygments_lexer": "ipython3",
   "version": "3.9.13"
  },
  "orig_nbformat": 4,
  "vscode": {
   "interpreter": {
    "hash": "cfcfc0e0e8339771dce3d0e8cf371d6c4aa071b0e726c111f60290ab4202ecce"
   }
  }
 },
 "nbformat": 4,
 "nbformat_minor": 2
}
